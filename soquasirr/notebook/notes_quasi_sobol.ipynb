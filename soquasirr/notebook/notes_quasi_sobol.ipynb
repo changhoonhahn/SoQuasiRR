{
 "cells": [
  {
   "cell_type": "code",
   "execution_count": 32,
   "metadata": {
    "collapsed": true
   },
   "outputs": [],
   "source": [
    "import numpy as np \n",
    "\n",
    "import env\n",
    "from _directions import DIRECTIONS_D6_21201"
   ]
  },
  {
   "cell_type": "code",
   "execution_count": 6,
   "metadata": {
    "collapsed": true
   },
   "outputs": [],
   "source": [
    "import matplotlib as mpl\n",
    "import matplotlib.pyplot as plt \n",
    "mpl.rcParams['text.usetex'] = True\n",
    "mpl.rcParams['font.family'] = 'serif'\n",
    "mpl.rcParams['axes.linewidth'] = 1.5\n",
    "mpl.rcParams['axes.xmargin'] = 1\n",
    "mpl.rcParams['xtick.labelsize'] = 'x-large'\n",
    "mpl.rcParams['xtick.major.size'] = 5\n",
    "mpl.rcParams['xtick.major.width'] = 1.5\n",
    "mpl.rcParams['ytick.labelsize'] = 'x-large'\n",
    "mpl.rcParams['ytick.major.size'] = 5\n",
    "mpl.rcParams['ytick.major.width'] = 1.5\n",
    "mpl.rcParams['legend.frameon'] = False\n",
    "%matplotlib inline"
   ]
  },
  {
   "cell_type": "code",
   "execution_count": 33,
   "metadata": {
    "collapsed": true
   },
   "outputs": [],
   "source": [
    "def sobol(n, d): \n",
    "    ''' generate n sobol random vectors of dimension d\n",
    "    '''\n",
    "    # v_l = max number of bits needed\n",
    "    v_l = np.int64(np.ceil(np.log(n) / np.log(2.0)))\n",
    "    inv2p32 = np.exp(-32.0 * np.log(2.0))\n",
    "\n",
    "    # v_c[i] = index from the right of the first zero bit of i\n",
    "    v_c = np.ndarray(n, dtype=np.int64)\n",
    "    v_c[0] = 1\n",
    "    for i in range(1, n):\n",
    "        v_c[i] = 1\n",
    "        value = i\n",
    "        while value & 1:\n",
    "            value >>= 1\n",
    "            v_c[i] += 1\n",
    "\n",
    "    # output[i][j] = the jth component of the ith point\n",
    "    #                with i indexed from 0 to N-1 and j indexed from 0 to D-1\n",
    "    output = np.ndarray((n, d), dtype=np.float64)\n",
    "    output.fill(0.0)\n",
    "\n",
    "    # ----- Compute the first dimension -----\n",
    "\n",
    "    # Compute direction numbers V[1] to V[L], scaled by pow(2,32)\n",
    "    v_v = np.ndarray(n, dtype=np.int64)\n",
    "    for i in range(0, v_l + 1):\n",
    "        v_v[i] = 1 << (32 - i)\n",
    "\n",
    "    # Evalulate X[0] to X[N-1], scaled by pow(2,32)\n",
    "    v_x = np.ndarray(n, dtype=np.int64)\n",
    "    v_x[0] = 0\n",
    "    for i in range(1, n):\n",
    "        v_x[i] = v_x[i - 1] ^ v_v[v_c[i - 1]]\n",
    "        # Value for vector #i dimension #j==0\n",
    "        output[i][0] = np.float64(v_x[i]) * inv2p32\n",
    "\n",
    "    # ----- Compute the remaining dimensions -----\n",
    "    for j in range(1, d):\n",
    "        # d_s is the degree of the primitive polynomial\n",
    "        d_s = DIRECTIONS_D6_21201[j - 1][1]\n",
    "        # d_a is the number representing the coefficient\n",
    "        d_a = DIRECTIONS_D6_21201[j - 1][2]\n",
    "        # d_m is the list of initial direction numbers\n",
    "        d_m = [0] + DIRECTIONS_D6_21201[j - 1][3:]\n",
    "\n",
    "\n",
    "        if v_l <= d_s:\n",
    "            for i in range(1, v_l + 1):\n",
    "                v_v[i] = d_m[i] << (32 - i)\n",
    "        else:\n",
    "            for i in range(1, d_s + 1):\n",
    "                v_v[i] = d_m[i] << (32 - i)\n",
    "            for i in range(d_s + 1, v_l + 1):\n",
    "                v_v[i] = v_v[i - d_s] ^ (v_v[i - d_s] >> d_s)\n",
    "                for k in range(1, d_s):\n",
    "                    v_v[i] ^= (((d_a >> (d_s - 1 - k)) & 1) * v_v[i - k])\n",
    "\n",
    "        v_x[0] = 0\n",
    "        for i in range(1, n):\n",
    "            v_x[i] = v_x[i - 1] ^ v_v[v_c[i - 1]]\n",
    "            output[i][j] = np.float64(v_x[i]) * inv2p32\n",
    "    # Skip first 0,...,0\n",
    "    return output[1:]\n"
   ]
  },
  {
   "cell_type": "code",
   "execution_count": 57,
   "metadata": {
    "collapsed": true
   },
   "outputs": [],
   "source": [
    "N_random = 4000 \n",
    "v1 = sobol(N_random, 2)\n",
    "v2 = np.random.uniform(size=(N_random, 2))"
   ]
  },
  {
   "cell_type": "code",
   "execution_count": 1,
   "metadata": {},
   "outputs": [
    {
     "ename": "NameError",
     "evalue": "name 'v1' is not defined",
     "output_type": "error",
     "traceback": [
      "\u001b[0;31m---------------------------------------------------------------------------\u001b[0m",
      "\u001b[0;31mNameError\u001b[0m                                 Traceback (most recent call last)",
      "\u001b[0;32m<ipython-input-1-35b7ef1261ee>\u001b[0m in \u001b[0;36m<module>\u001b[0;34m()\u001b[0m\n\u001b[1;32m      1\u001b[0m \u001b[0mfig\u001b[0m \u001b[0;34m=\u001b[0m \u001b[0mplt\u001b[0m\u001b[0;34m.\u001b[0m\u001b[0mfigure\u001b[0m\u001b[0;34m(\u001b[0m\u001b[0;34m)\u001b[0m\u001b[0;34m\u001b[0m\u001b[0m\n\u001b[1;32m      2\u001b[0m \u001b[0msub\u001b[0m \u001b[0;34m=\u001b[0m \u001b[0mfig\u001b[0m\u001b[0;34m.\u001b[0m\u001b[0madd_subplot\u001b[0m\u001b[0;34m(\u001b[0m\u001b[0;36m111\u001b[0m\u001b[0;34m)\u001b[0m\u001b[0;34m\u001b[0m\u001b[0m\n\u001b[0;32m----> 3\u001b[0;31m \u001b[0msub\u001b[0m\u001b[0;34m.\u001b[0m\u001b[0mscatter\u001b[0m\u001b[0;34m(\u001b[0m\u001b[0mv1\u001b[0m\u001b[0;34m[\u001b[0m\u001b[0;34m:\u001b[0m\u001b[0;34m,\u001b[0m\u001b[0;36m0\u001b[0m\u001b[0;34m]\u001b[0m\u001b[0;34m,\u001b[0m \u001b[0mv1\u001b[0m\u001b[0;34m[\u001b[0m\u001b[0;34m:\u001b[0m\u001b[0;34m,\u001b[0m\u001b[0;36m1\u001b[0m\u001b[0;34m]\u001b[0m\u001b[0;34m,\u001b[0m \u001b[0ms\u001b[0m\u001b[0;34m=\u001b[0m\u001b[0;36m4\u001b[0m\u001b[0;34m,\u001b[0m \u001b[0mlabel\u001b[0m\u001b[0;34m=\u001b[0m\u001b[0;34m'Sobol'\u001b[0m\u001b[0;34m)\u001b[0m\u001b[0;34m\u001b[0m\u001b[0m\n\u001b[0m\u001b[1;32m      4\u001b[0m \u001b[0msub\u001b[0m\u001b[0;34m.\u001b[0m\u001b[0mscatter\u001b[0m\u001b[0;34m(\u001b[0m\u001b[0mv2\u001b[0m\u001b[0;34m[\u001b[0m\u001b[0;34m:\u001b[0m\u001b[0;34m,\u001b[0m\u001b[0;36m0\u001b[0m\u001b[0;34m]\u001b[0m\u001b[0;34m,\u001b[0m \u001b[0mv2\u001b[0m\u001b[0;34m[\u001b[0m\u001b[0;34m:\u001b[0m\u001b[0;34m,\u001b[0m\u001b[0;36m1\u001b[0m\u001b[0;34m]\u001b[0m\u001b[0;34m,\u001b[0m \u001b[0ms\u001b[0m\u001b[0;34m=\u001b[0m\u001b[0;36m2\u001b[0m\u001b[0;34m,\u001b[0m \u001b[0mlabel\u001b[0m\u001b[0;34m=\u001b[0m\u001b[0;34m'Random'\u001b[0m\u001b[0;34m)\u001b[0m\u001b[0;34m\u001b[0m\u001b[0m\n\u001b[1;32m      5\u001b[0m \u001b[0msub\u001b[0m\u001b[0;34m.\u001b[0m\u001b[0mset_xlim\u001b[0m\u001b[0;34m(\u001b[0m\u001b[0;34m[\u001b[0m\u001b[0;36m0.\u001b[0m\u001b[0;34m,\u001b[0m \u001b[0;36m1.\u001b[0m\u001b[0;34m]\u001b[0m\u001b[0;34m)\u001b[0m\u001b[0;34m\u001b[0m\u001b[0m\n",
      "\u001b[0;31mNameError\u001b[0m: name 'v1' is not defined"
     ]
    }
   ],
   "source": [
    "fig = plt.figure()\n",
    "sub = fig.add_subplot(111)\n",
    "sub.scatter(v1[:,0], v1[:,1], s=4, label='Sobol')\n",
    "sub.scatter(v2[:,0], v2[:,1], s=2, label='Random')\n",
    "sub.set_xlim([0., 1.])\n",
    "sub.set_ylim([0., 1.])\n",
    "leg = sub.legend()\n",
    "leg.get_frame().set_facecolor('#00FFCC')\n"
   ]
  },
  {
   "cell_type": "code",
   "execution_count": 59,
   "metadata": {},
   "outputs": [
    {
     "data": {
      "text/plain": [
       "<matplotlib.legend.Legend at 0x10fdeaf90>"
      ]
     },
     "execution_count": 59,
     "metadata": {},
     "output_type": "execute_result"
    },
    {
     "data": {
      "image/png": "[encoded data removed]",
      "text/plain": [
       "<matplotlib.figure.Figure at 0x10faa2c50>"
      ]
     },
     "metadata": {},
     "output_type": "display_data"
    }
   ],
   "source": [
    "fig = plt.figure()\n",
    "sub = fig.add_subplot(211)\n",
    "_ = sub.hist(v1[:,0], histtype='step', normed=True, label='Sobol')\n",
    "_ = sub.hist(v1[:,1], histtype='step', normed=True)\n",
    "sub.legend(loc='best')\n",
    "sub.set_xlim([0., 1.])\n",
    "sub.set_ylim([0., 2.])\n",
    "sub = fig.add_subplot(212)\n",
    "_ = sub.hist(v2[:,0], histtype='step', normed=True, label='Random')\n",
    "_ = sub.hist(v2[:,1], histtype='step', normed=True)\n",
    "sub.set_xlim([0., 1.])\n",
    "sub.set_ylim([0., 2.])\n",
    "sub.legend(loc='best')"
   ]
  },
  {
   "cell_type": "code",
   "execution_count": null,
   "metadata": {
    "collapsed": true
   },
   "outputs": [],
   "source": []
  }
 ],
 "metadata": {
  "kernelspec": {
   "display_name": "Python 2",
   "language": "python",
   "name": "python2"
  },
  "language_info": {
   "codemirror_mode": {
    "name": "ipython",
    "version": 2
   },
   "file_extension": ".py",
   "mimetype": "text/x-python",
   "name": "python",
   "nbconvert_exporter": "python",
   "pygments_lexer": "ipython2",
   "version": "2.7.13"
  }
 },
 "nbformat": 4,
 "nbformat_minor": 2
}
